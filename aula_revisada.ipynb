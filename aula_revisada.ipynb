{
 "cells": [
  {
   "cell_type": "markdown",
   "metadata": {},
   "source": [
    "# Aula: Desvendando a Árvore de Decisão\n",
    "\n",
    "Olá! Seja bem-vindo(a) ao seu guia sobre um dos algoritmos mais intuitivos e poderosos do Machine Learning: a **Árvore de Decisão**.\n",
    "\n",
    "Nesta aula, vamos construir o conhecimento passo a passo. O foco é entender a **lógica** e a **matemática** por trás do modelo antes de implementarmos o código. Vamos lá!"
   ]
  },
  {
   "cell_type": "markdown",
   "metadata": {},
   "source": [
    "## 1. A Intuição: Como Tomamos Decisões?\n",
    "\n",
    "A Árvore de Decisão funciona de uma maneira muito parecida com o nosso cérebro ao tomar decisões. Pense no processo para decidir se você vai a uma festa ou não:\n",
    "\n",
    "<img src='arvore.png' width='400'/>\n",
    "\n",
    "1.  A primeira pergunta poderia ser: *\"Tenho outro compromisso?\"* Se **sim**, a decisão está tomada: **Não vou**. \n",
    "2.  Se **não**, uma segunda pergunta surge: *\"A festa é na minha cidade?\"* Se **não**, a decisão é: **Não vou**.\n",
    "3.  Se **sim**, uma terceira pergunta: *\"Tenho dinheiro?\"* E assim por diante.\n",
    "\n",
    "Cada pergunta é um **\"nó\"** da nossa árvore, e cada resposta nos leva a um novo ramo, até chegarmos em uma decisão final, que é a **\"folha\"** da árvore.\n",
    "\n",
    "O algoritmo de Árvore de Decisão aprende sozinho a fazer as **melhores perguntas** e na **melhor ordem** para separar os dados e chegar a uma conclusão."
   ]
  },
  {
   "cell_type": "markdown",
   "metadata": {},
   "source": [
    "## 2. O Objetivo do Algoritmo: Encontrar a Pureza\n",
    "\n",
    "Para saber qual é a \"melhor pergunta\", o algoritmo precisa de um objetivo. O objetivo é criar grupos (nós) o mais **\"puros\"** possível.\n",
    "\n",
    "Imagine uma caixa com 10 bolas, 5 azuis e 5 vermelhas. Essa caixa é **impura**, pois tem uma mistura perfeita. Agora, se uma pergunta (ex: \"A bola é lisa?\") consegue separar essas bolas em duas caixas, uma com 4 azuis e 1 vermelha, e outra com 4 vermelhas e 1 azul, nós aumentamos a pureza dos grupos!\n",
    "\n",
    "- **Alta Impureza**: Um nó com 50% de \"Sim\" e 50% de \"Não\".\n",
    "- **Alta Pureza**: Um nó com 95% de \"Sim\" e 5% de \"Não\".\n",
    "- **Pureza Total**: Um nó com 100% de \"Sim\" (ou 100% de \"Não\"). A impureza é zero."
   ]
  },
  {
   "cell_type": "markdown",
   "metadata": {},
   "source": [
    "## 3. A Ferramenta de Medida: O Índice Gini\n",
    "\n",
    "Para medir a impureza, o algoritmo usa uma fórmula matemática. A mais comum é o **Índice Gini**. Ele mede qual a probabilidade de classificarmos errado um item aleatório daquele nó.\n",
    "\n",
    "A fórmula é:\n",
    "$$ Gini = 1 - \\sum_{i=1}^{C} (p_i)^2 $$\n",
    "\n",
    "Onde:\n",
    "- **C** é o número total de classes (ex: \"Sim\" e \"Não\", então C=2).\n",
    "- **$p_i$** é a proporção de cada classe no nó.\n",
    "\n",
    "O valor do Gini varia de **0** (totalmente puro) a **0.5** (totalmente impuro, para 2 classes). O algoritmo buscará a pergunta que resulta no **menor Gini possível**."
   ]
  },
  {
   "cell_type": "markdown",
   "metadata": {},
   "source": [
    "## 4. Exemplo 'Mão na Massa': Doença Cardíaca\n",
    "\n",
    "Vamos usar um pequeno dataset para calcular na mão como a árvore escolhe a primeira pergunta. Nosso objetivo é prever `Doença Cardíaca`.\n",
    "\n",
    "| ID | Fumante | Idade | Doença Cardíaca |\n",
    "| -- | ------- | ----- | --------------- |\n",
    "| 4  | Não     | 35    | Não             |\n",
    "| 2  | Não     | 40    | Não             |\n",
    "| 5  | Sim     | 45    | Não             |\n",
    "| 1  | Sim     | 55    | Sim             |\n",
    "| 3  | Sim     | 60    | Sim             |\n",
    "| 6  | Não     | 70    | Sim             |\n",
    "\n",
    "\n",
    "\n",
    "\n",
    "No nosso dataset inicial (nó raiz), temos 3 exemplos: **3 \"Sim\"** e **3 \"Não\"**."
   ]
  },
  {
   "cell_type": "code",
   "execution_count": 10,
   "metadata": {},
   "outputs": [
    {
     "name": "stdout",
     "output_type": "stream",
     "text": [
      "gini_375:  0.4\n",
      "gini_425:  0.25\n",
      "gini_50:  0.0\n",
      "gini_575:  0.25\n",
      "gini_65:  0.4\n"
     ]
    }
   ],
   "source": [
    "gini_375 = 1/6 *(1 - (1/1)**2 - (0/1)**2) + 5/6 * (1-(2/5)**2 - (3/5)**2)\n",
    "gini_425 = 2/6 *(1 - (2/2)**2 - (0/2)**2) + 4/6 * (1-(1/4)**2 - (3/4)**2)\n",
    "gini_50  = 3/6 *(1 - (3/3)**2 - (0/3)**2) + 3/6 * (1-(0/3)**2 - (3/3)**2)\n",
    "gini_575 =  4/6 *(1 - (3/4)**2 - (1/4)**2) + 2/6 * (1-(2/2)**2 - (0/2)**2)\n",
    "gini_65 =  5/6 *(1 - (3/5)**2 - (2/5)**2) + 1/6 * (1-(1/1)**2 - (0/1)**2)\n",
    "\n",
    "print('gini_375: ',gini_375)\n",
    "print('gini_425: ',gini_425)\n",
    "print('gini_50: ',gini_50)\n",
    "print('gini_575: ',gini_575)\n",
    "print('gini_65: ',gini_65)"
   ]
  },
  {
   "cell_type": "markdown",
   "metadata": {},
   "source": [
    "| Corte (Idade ≤) | Gini esquerda | Gini direita | Gini total |\n",
    "| --------------- | ------------- | ------------ | ---------- |\n",
    "| 37.5            | 0.0           | 0.48         | 0.40       |\n",
    "| 42.5            | 0.0           | 0.375        | 0.25       |\n",
    "| 50.0            | 0.0           | 0.0          | 0          |\n",
    "| 57.5            | 0.375         | 0.0          | 0.25       |\n",
    "| 65.0            | 0.48          | 0.0          | 0.40       |\n"
   ]
  },
  {
   "cell_type": "markdown",
   "metadata": {},
   "source": []
  },
  {
   "cell_type": "markdown",
   "metadata": {},
   "source": [
    "## 5. Exemplo Prático em Python\n",
    "\n",
    "Agora que entendemos a lógica, vamos ver como a biblioteca `scikit-learn` faz todo esse trabalho para nós. Usaremos o mesmo dataset de exemplo."
   ]
  },
  {
   "cell_type": "code",
   "execution_count": 11,
   "metadata": {},
   "outputs": [],
   "source": [
    "import pandas as pd\n",
    "from sklearn.tree import DecisionTreeClassifier, plot_tree\n",
    "import matplotlib.pyplot as plt\n",
    "\n",
    "# Criando o DataFrame\n",
    "dados = {\n",
    "    'Fumante': ['Não', 'Não', 'Sim', 'Sim', 'Sim', 'Não'],\n",
    "    'Idade': [35, 40, 45, 55, 60, 70],\n",
    "    'DoencaCardiaca': ['Não', 'Não', 'Não', 'Sim', 'Sim', 'Sim']\n",
    "}\n",
    "\n",
    "df = pd.DataFrame(dados)\n"
   ]
  },
  {
   "cell_type": "code",
   "execution_count": 13,
   "metadata": {},
   "outputs": [
    {
     "data": {
      "text/html": [
       "<div>\n",
       "<style scoped>\n",
       "    .dataframe tbody tr th:only-of-type {\n",
       "        vertical-align: middle;\n",
       "    }\n",
       "\n",
       "    .dataframe tbody tr th {\n",
       "        vertical-align: top;\n",
       "    }\n",
       "\n",
       "    .dataframe thead th {\n",
       "        text-align: right;\n",
       "    }\n",
       "</style>\n",
       "<table border=\"1\" class=\"dataframe\">\n",
       "  <thead>\n",
       "    <tr style=\"text-align: right;\">\n",
       "      <th></th>\n",
       "      <th>Fumante</th>\n",
       "      <th>Idade</th>\n",
       "      <th>DoencaCardiaca</th>\n",
       "    </tr>\n",
       "  </thead>\n",
       "  <tbody>\n",
       "    <tr>\n",
       "      <th>0</th>\n",
       "      <td>Não</td>\n",
       "      <td>35</td>\n",
       "      <td>Não</td>\n",
       "    </tr>\n",
       "    <tr>\n",
       "      <th>1</th>\n",
       "      <td>Não</td>\n",
       "      <td>40</td>\n",
       "      <td>Não</td>\n",
       "    </tr>\n",
       "    <tr>\n",
       "      <th>2</th>\n",
       "      <td>Sim</td>\n",
       "      <td>45</td>\n",
       "      <td>Não</td>\n",
       "    </tr>\n",
       "    <tr>\n",
       "      <th>3</th>\n",
       "      <td>Sim</td>\n",
       "      <td>55</td>\n",
       "      <td>Sim</td>\n",
       "    </tr>\n",
       "    <tr>\n",
       "      <th>4</th>\n",
       "      <td>Sim</td>\n",
       "      <td>60</td>\n",
       "      <td>Sim</td>\n",
       "    </tr>\n",
       "    <tr>\n",
       "      <th>5</th>\n",
       "      <td>Não</td>\n",
       "      <td>70</td>\n",
       "      <td>Sim</td>\n",
       "    </tr>\n",
       "  </tbody>\n",
       "</table>\n",
       "</div>"
      ],
      "text/plain": [
       "  Fumante  Idade DoencaCardiaca\n",
       "0     Não     35            Não\n",
       "1     Não     40            Não\n",
       "2     Sim     45            Não\n",
       "3     Sim     55            Sim\n",
       "4     Sim     60            Sim\n",
       "5     Não     70            Sim"
      ]
     },
     "execution_count": 13,
     "metadata": {},
     "output_type": "execute_result"
    }
   ],
   "source": [
    "df"
   ]
  },
  {
   "cell_type": "code",
   "execution_count": 14,
   "metadata": {},
   "outputs": [],
   "source": [
    "# Ajustando as variáveis categóricas\n",
    "df.Fumante = df.Fumante.map({'Sim': 1,  'Não': 0 })\n",
    "df.DoencaCardiaca = df.DoencaCardiaca.map({'Sim': 1,  'Não': 0 })"
   ]
  },
  {
   "cell_type": "code",
   "execution_count": 15,
   "metadata": {},
   "outputs": [
    {
     "data": {
      "text/html": [
       "<div>\n",
       "<style scoped>\n",
       "    .dataframe tbody tr th:only-of-type {\n",
       "        vertical-align: middle;\n",
       "    }\n",
       "\n",
       "    .dataframe tbody tr th {\n",
       "        vertical-align: top;\n",
       "    }\n",
       "\n",
       "    .dataframe thead th {\n",
       "        text-align: right;\n",
       "    }\n",
       "</style>\n",
       "<table border=\"1\" class=\"dataframe\">\n",
       "  <thead>\n",
       "    <tr style=\"text-align: right;\">\n",
       "      <th></th>\n",
       "      <th>Fumante</th>\n",
       "      <th>Idade</th>\n",
       "      <th>DoencaCardiaca</th>\n",
       "    </tr>\n",
       "  </thead>\n",
       "  <tbody>\n",
       "    <tr>\n",
       "      <th>0</th>\n",
       "      <td>0</td>\n",
       "      <td>35</td>\n",
       "      <td>0</td>\n",
       "    </tr>\n",
       "    <tr>\n",
       "      <th>1</th>\n",
       "      <td>0</td>\n",
       "      <td>40</td>\n",
       "      <td>0</td>\n",
       "    </tr>\n",
       "    <tr>\n",
       "      <th>2</th>\n",
       "      <td>1</td>\n",
       "      <td>45</td>\n",
       "      <td>0</td>\n",
       "    </tr>\n",
       "    <tr>\n",
       "      <th>3</th>\n",
       "      <td>1</td>\n",
       "      <td>55</td>\n",
       "      <td>1</td>\n",
       "    </tr>\n",
       "    <tr>\n",
       "      <th>4</th>\n",
       "      <td>1</td>\n",
       "      <td>60</td>\n",
       "      <td>1</td>\n",
       "    </tr>\n",
       "    <tr>\n",
       "      <th>5</th>\n",
       "      <td>0</td>\n",
       "      <td>70</td>\n",
       "      <td>1</td>\n",
       "    </tr>\n",
       "  </tbody>\n",
       "</table>\n",
       "</div>"
      ],
      "text/plain": [
       "   Fumante  Idade  DoencaCardiaca\n",
       "0        0     35               0\n",
       "1        0     40               0\n",
       "2        1     45               0\n",
       "3        1     55               1\n",
       "4        1     60               1\n",
       "5        0     70               1"
      ]
     },
     "execution_count": 15,
     "metadata": {},
     "output_type": "execute_result"
    }
   ],
   "source": [
    "df"
   ]
  },
  {
   "cell_type": "code",
   "execution_count": null,
   "metadata": {},
   "outputs": [
    {
     "data": {
      "image/png": "[encoded data removed]",
      "text/plain": [
       "<Figure size 1500x800 with 1 Axes>"
      ]
     },
     "metadata": {},
     "output_type": "display_data"
    }
   ],
   "source": [
    "\n",
    "#Separando X e y\n",
    "X = df[['Fumante', 'Idade']]\n",
    "y = df['DoencaCardiaca']\n",
    "\n",
    "#Separando os nomes das features\n",
    "feature_names=X.columns\n",
    "\n",
    "\n",
    "# 3. Treinando o Modelo de Árvore de Decisão\n",
    "# Usamos criterion='gini' para replicar nosso cálculo manual.\n",
    "tree_model = DecisionTreeClassifier(criterion='gini', random_state=42)\n",
    "tree_model.fit(X,y)\n",
    "\n",
    "\n",
    "# 4. Visualizando a Árvore\n",
    "plt.figure(figsize=(15, 8))\n",
    "\n",
    "plot_tree(tree_model, \n",
    "          feature_names=feature_names, \n",
    "          class_names=['Não', 'Sim'], \n",
    "          filled=True, \n",
    "          rounded=True,\n",
    "          fontsize=16)\n",
    "plt.title(\"Árvore de Decisão - Prever Doença Cardiaca\")\n",
    "plt.show()"
   ]
  },
  {
   "cell_type": "markdown",
   "metadata": {},
   "source": [
    "## 6. Cuidado com o Overfitting!\n",
    "\n",
    "Uma árvore de decisão, por padrão, tentará crescer até que todos os nós sejam 100% puros. Em dados reais, isso quase sempre leva ao **overfitting**: o modelo decora perfeitamente os dados de treino, mas não consegue generalizar para novos dados.\n",
    "\n",
    "Para controlar isso, usamos **hiperparâmetros**, que são como as \"regras\" que damos ao modelo. Os mais importantes são:\n",
    "\n",
    "- **`max_depth`**: A profundidade máxima da árvore. Limita quantas \"camadas\" de perguntas a árvore pode fazer. Um valor menor (ex: 3 ou 4) cria uma árvore mais simples e que generaliza melhor.\n",
    "\n",
    "- **`min_samples_split`**: O número mínimo de amostras que um nó deve ter para poder ser dividido. Se um nó tem menos amostras que esse valor, ele vira uma folha, mesmo que não seja puro. Isso evita que a árvore crie nós para aprender com pouquíssimos exemplos.\n",
    "\n",
    "- **`min_samples_leaf`**: O número mínimo de amostras que cada nó folha (a decisão final) deve ter. Garante que nossas conclusões sejam baseadas em um número razoável de exemplos."
   ]
  },
  {
   "cell_type": "markdown",
   "metadata": {},
   "source": [
    "## Conclusão e Próximos Passos\n",
    "\n",
    "Parabéns! Você desvendou a lógica por trás de um dos modelos mais importantes de Machine Learning.\n",
    "\n",
    "**Principais aprendizados:**\n",
    "1. A Árvore de Decisão imita o raciocínio humano, fazendo perguntas sequenciais.\n",
    "2. O objetivo é reduzir a **impureza** dos dados a cada pergunta.\n",
    "3. O **Índice Gini** é a fórmula que mede essa impureza e guia a árvore na escolha da melhor pergunta.\n",
    "4. É fundamental controlar a complexidade da árvore com hiperparâmetros para evitar o overfitting.\n",
    "\n",
    "Ficou alguma dúvida? O que você gostaria de explorar a seguir? Talvez como a árvore funciona para problemas de regressão ou como ela lida com variáveis numéricas contínuas?"
   ]
  }
 ],
 "metadata": {
  "kernelspec": {
   "display_name": "Python 3",
   "language": "python",
   "name": "python3"
  },
  "language_info": {
   "codemirror_mode": {
    "name": "ipython",
    "version": 3
   },
   "file_extension": ".py",
   "mimetype": "text/x-python",
   "name": "python",
   "nbconvert_exporter": "python",
   "pygments_lexer": "ipython3",
   "version": "3.13.2"
  }
 },
 "nbformat": 4,
 "nbformat_minor": 4
}
