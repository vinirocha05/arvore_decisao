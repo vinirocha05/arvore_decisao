{
 "cells": [
  {
   "cell_type": "markdown",
   "id": "4ab3f7dd",
   "metadata": {},
   "source": [
    "# Árvore de Decissão\n",
    "\n",
    "A árvore de decissão é um dos modelos de machine learning mais usados. Ele pode ser usado tanto para Regressão quanto para classificação.\n",
    "Ele é muito usado pois seu modelo de funcionamneto se assemelha muito com a forma com que nós resolvemos um problema.\n",
    "\n",
    "<img src='arvore.png'>"
   ]
  },
  {
   "cell_type": "markdown",
   "id": "ae06da71",
   "metadata": {},
   "source": [
    "No nosso exemplo temos o processo de decisão que usaríamos para decidir ir numa festa ou não.\n",
    "A primeira decisão importante que eu poderia fazer é entender se eu tenho compromisso ou não naquele dia. Se eu tiver, não vou na festa.\n",
    "Se eu não tiver compromisso, vou verificar se estarei na cidade. Se não estiver, não vou para festa.\n",
    "Caso eu esteja na cidade, tenha dinheiro e não esteja chovendo ai sim vou na festa."
   ]
  },
  {
   "cell_type": "markdown",
   "id": "41cccd78",
   "metadata": {},
   "source": [
    "De forma análoga, o algoritmo de arvore de decisão consegue decidir quais variáveis são relevantes para classificar nossa variável target e além disso, ele consegue verificar a melhor ordem para fazer essas perguntas."
   ]
  },
  {
   "cell_type": "markdown",
   "id": "4e064a3b",
   "metadata": {},
   "source": [
    "Imagine que você tem uma caixa cheia de bolas, algumas azuis e outras vermelhas. Se eu te pedisse para separar essas bolas por cor, seu objetivo seria criar dois grupos: um só com bolas azuis e outro só com bolas vermelhas. Cada um desses grupos seria \"puro\", pois conteria apenas uma cor.\n",
    "\n",
    "A Árvore de Decisão faz exatamente isso com os seus dados. O objetivo dela é fazer uma série de perguntas (os \"nós\" da árvore) que dividam o conjunto de dados inicial em subconjuntos cada vez mais \"puros\".\n",
    "\n",
    "Impureza Alta: Um nó (ou uma caixa) com uma mistura de 50% de bolas azuis e 50% de vermelhas é considerado muito impuro. Há muita incerteza sobre qual cor você pegaria ao acaso.\n",
    "\n",
    "Impureza Baixa (ou Pureza Alta): Um nó com 90% de bolas vermelhas e 10% de azuis é mais puro. A chance de pegar uma bola vermelha é muito alta.\n",
    "\n",
    "Pureza Total: Um nó com 100% de bolas de uma única cor é totalmente puro. A impureza é zero."
   ]
  },
  {
   "cell_type": "markdown",
   "id": "a55f16d7",
   "metadata": {},
   "source": [
    "Por que o Gini e a Entropia são usados? Explique brevemente que essas métricas quantificam a \"mistura\" de classes em um conjunto de dados. Um Gini ou Entropia próximos de zero indicam um nó mais puro (com uma única classe predominante)."
   ]
  },
  {
   "cell_type": "markdown",
   "id": "85cdd6ae",
   "metadata": {},
   "source": [
    "Para encontrar essas perguntas, o algoritmo pode fazer alguns cáculos, sendo que os mais famosos são:\n",
    "- Gini: forma padrão que a maioria das bibliotecas segue\n",
    "- Entropia e ganho de informação: melhor para grande conjuntos de dados\n",
    "\n",
    "Obs: geralmente eles não apresentam muitas diferenças"
   ]
  },
  {
   "cell_type": "markdown",
   "id": "0f71bc00",
   "metadata": {},
   "source": [
    "$$\n",
    "Gini(t) = 1 - \\sum_{i=1}^{C} p_i^2\n",
    "$$\n"
   ]
  },
  {
   "cell_type": "markdown",
   "id": "b9762fb4",
   "metadata": {},
   "source": [
    "O processo para verificar com qual variável começamos a raiz será:\n",
    "1. Selecionar nossa variável target\n",
    "2. Testar todas as variáveis e encontrar aquela que possui o menor indice de Gini. Ou seja, aquele que pussei menos impurezas\n",
    "3. Caso alguma variável tenha o mesmo número de Gini, podemos escolher arbitrariamente.\n",
    "\n",
    "Obs: para calcualr o gini vou separar em dois nós. Um com o evento um com sim e outro com não. A partir disso, vou usar a fórmula: 1 - [sim/(sim + nao)ˆ2 + nao/(sim+nao)ˆ2]\n",
    "\n",
    "4. Para variáveis contínuas, vou calcular o gini para todas as faixas de valores e com isso encontra qual a o valor possui o menor número de Gini."
   ]
  },
  {
   "cell_type": "markdown",
   "id": "34becee3",
   "metadata": {},
   "source": [
    "Após repetir o processo algumas vezes, com sorte vamos conseguir separar totalmente nossos dados"
   ]
  },
  {
   "cell_type": "markdown",
   "id": "9d257679",
   "metadata": {},
   "source": [
    "Alguns pontos de observação, se não ajustarmos corretamente os hipermâmetros do nosso modelo é bem provável que ele vá overfitar, ou seja, se adequar demais as dados de treino."
   ]
  },
  {
   "cell_type": "markdown",
   "id": "393e9df5",
   "metadata": {},
   "source": [
    "Na prática, o que o algortimo está fazendo é calculando retas no nosso conjunto de dados para que seja possível separar os dados em classificações diferentes. Ou detalhe importante é que eu posso traçar quantas retas forem necessárias."
   ]
  },
  {
   "cell_type": "markdown",
   "id": "f0e53ef8",
   "metadata": {},
   "source": [
    "## Exemplo prático em python\n",
    "\n"
   ]
  },
  {
   "cell_type": "code",
   "execution_count": null,
   "id": "d999433a",
   "metadata": {
    "vscode": {
     "languageId": "plaintext"
    }
   },
   "outputs": [],
   "source": [
    "# usar plot_tree\n",
    "# Principais hiperparâmetros para controlar a complexidade da árvore (max_depth, min_samples_split, min_samples_leaf, etc.)."
   ]
  }
 ],
 "metadata": {
  "language_info": {
   "name": "python"
  }
 },
 "nbformat": 4,
 "nbformat_minor": 5
}
